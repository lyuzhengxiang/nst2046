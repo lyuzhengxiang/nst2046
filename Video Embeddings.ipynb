{
 "cells": [
  {
   "cell_type": "code",
   "execution_count": 1,
   "metadata": {},
   "outputs": [
    {
     "name": "stdout",
     "output_type": "stream",
     "text": [
      "Collecting apify-client\n",
      "  Downloading apify_client-1.8.1-py3-none-any.whl (73 kB)\n",
      "\u001b[K     |████████████████████████████████| 73 kB 1.4 MB/s eta 0:00:01\n",
      "\u001b[?25hCollecting httpx>=0.25.0\n",
      "  Downloading httpx-0.27.2-py3-none-any.whl (76 kB)\n",
      "\u001b[K     |████████████████████████████████| 76 kB 3.8 MB/s eta 0:00:011\n",
      "\u001b[?25hCollecting apify-shared>=1.1.2\n",
      "  Downloading apify_shared-1.1.2-py3-none-any.whl (12 kB)\n",
      "Collecting more_itertools>=10.0.0\n",
      "  Downloading more_itertools-10.5.0-py3-none-any.whl (60 kB)\n",
      "\u001b[K     |████████████████████████████████| 60 kB 4.5 MB/s eta 0:00:011\n",
      "\u001b[?25hRequirement already satisfied: certifi in /Users/willchenwenjun/opt/anaconda3/lib/python3.9/site-packages (from httpx>=0.25.0->apify-client) (2021.10.8)\n",
      "Requirement already satisfied: idna in /Users/willchenwenjun/opt/anaconda3/lib/python3.9/site-packages (from httpx>=0.25.0->apify-client) (3.3)\n",
      "Requirement already satisfied: sniffio in /Users/willchenwenjun/opt/anaconda3/lib/python3.9/site-packages (from httpx>=0.25.0->apify-client) (1.2.0)\n",
      "Requirement already satisfied: anyio in /Users/willchenwenjun/opt/anaconda3/lib/python3.9/site-packages (from httpx>=0.25.0->apify-client) (3.5.0)\n",
      "Collecting httpcore==1.*\n",
      "  Downloading httpcore-1.0.6-py3-none-any.whl (78 kB)\n",
      "\u001b[K     |████████████████████████████████| 78 kB 5.7 MB/s  eta 0:00:01\n",
      "\u001b[?25hCollecting h11<0.15,>=0.13\n",
      "  Downloading h11-0.14.0-py3-none-any.whl (58 kB)\n",
      "\u001b[K     |████████████████████████████████| 58 kB 6.3 MB/s eta 0:00:011\n",
      "\u001b[?25hInstalling collected packages: h11, httpcore, more-itertools, httpx, apify-shared, apify-client\n",
      "Successfully installed apify-client-1.8.1 apify-shared-1.1.2 h11-0.14.0 httpcore-1.0.6 httpx-0.27.2 more-itertools-10.5.0\n"
     ]
    }
   ],
   "source": [
    "!pip install apify-client\n"
   ]
  },
  {
   "cell_type": "code",
   "execution_count": 1,
   "metadata": {},
   "outputs": [],
   "source": [
    "from apify_client import ApifyClient\n",
    "\n",
    "# Initialize the ApifyClient with your API token\n",
    "client = ApifyClient('apify_api_HEjhUeWLv5AdZ0Mo8Jc9qwdMC1SABR1JochI')"
   ]
  },
  {
   "cell_type": "code",
   "execution_count": null,
   "metadata": {},
   "outputs": [
    {
     "name": "stdout",
     "output_type": "stream",
     "text": [
      "[{'id': '695363', 'name': 'maga', 'title': '', 'cover': ''}, {'id': '28492', 'name': 'donaldtrump', 'title': '', 'cover': ''}, {'id': '15206346', 'name': 'uselection', 'title': '', 'cover': ''}, {'id': '1664936759308290', 'name': 'sgnews', 'title': \"Stay on top of the latest and trendiest news with TikTok! From viral social news and current affairs, to lifestyle recommendations and juicy entertaintment stories, there's always something new to discover!\", 'cover': ''}, {'id': '76414', 'name': 'news', 'title': '', 'cover': ''}, {'id': '229207', 'name': 'fyp', 'title': '', 'cover': ''}, {'id': '7017380340658339841', 'name': 'wekaypoh', 'title': '', 'cover': ''}]\n"
     ]
    }
   ],
   "source": [
    "# Run the Actor and wait for it to finish\n",
    "\n",
    "run_input = {\n",
    "  \"postURLs\": [\n",
    "    \"https://www.tiktok.com/@wekaypoh/video/7436332735595154706?q=election&t=1731409196732\"\n",
    "  ],\n",
    "  \"shouldDownloadCovers\": False,\n",
    "  \"shouldDownloadSlideshowImages\": False,\n",
    "  \"shouldDownloadSubtitles\": False,\n",
    "  \"shouldDownloadVideos\": False\n",
    "}\n",
    "\n",
    "# Run the Actor and wait for it to finish\n",
    "run = client.actor(\"S5h7zRLfKFEr8pdj7\").call(run_input=run_input)\n",
    "\n",
    "# Fetch and print Actor results from the run's dataset (if there are any)\n",
    "for item in client.dataset(run[\"defaultDatasetId\"]).iterate_items():\n",
    "    print(item['hashtags'])\n"
   ]
  },
  {
   "cell_type": "code",
   "execution_count": 16,
   "metadata": {},
   "outputs": [
    {
     "data": {
      "text/plain": [
       "[{'id': '695363', 'name': 'maga', 'title': '', 'cover': ''},\n",
       " {'id': '28492', 'name': 'donaldtrump', 'title': '', 'cover': ''},\n",
       " {'id': '15206346', 'name': 'uselection', 'title': '', 'cover': ''},\n",
       " {'id': '1664936759308290',\n",
       "  'name': 'sgnews',\n",
       "  'title': \"Stay on top of the latest and trendiest news with TikTok! From viral social news and current affairs, to lifestyle recommendations and juicy entertaintment stories, there's always something new to discover!\",\n",
       "  'cover': ''},\n",
       " {'id': '76414', 'name': 'news', 'title': '', 'cover': ''},\n",
       " {'id': '229207', 'name': 'fyp', 'title': '', 'cover': ''},\n",
       " {'id': '7017380340658339841', 'name': 'wekaypoh', 'title': '', 'cover': ''}]"
      ]
     },
     "execution_count": 16,
     "metadata": {},
     "output_type": "execute_result"
    }
   ],
   "source": [
    "client.dataset(run[\"defaultDatasetId\"]).list_items().items[0]['hashtags']"
   ]
  },
  {
   "cell_type": "code",
   "execution_count": 2,
   "metadata": {},
   "outputs": [
    {
     "name": "stdout",
     "output_type": "stream",
     "text": [
      "{'user1': {'videos': [{'link': 'https://www.tiktok.com/@mostpyaari/video/7435368918195178782', 'liked': True, 'commented': True, 'bookmarked': False, 'hashtags': ['cats', 'cat', 'kittens', 'catsoftiktok', 'petsoftiktok', 'pets']}, {'link': 'https://www.tiktok.com/@essaouirahorseparadise/video/7433840363829218565', 'liked': False, 'commented': False, 'bookmarked': True, 'hashtags': ['horses', 'horsesoftiktok', 'horse', 'horsetok', 'equestrian', 'fyp', 'cheval', 'fypage', 'viral', 'viralvideo', 'pferd', 'horsesontiktok', 'лошадь', 'horselove', 'essaouira', 'morocco', 'lovak', 'caballos', 'cavalli', 'feedom', 'power', 'stallion', 'brave']}]}, 'user2': {'videos': [{'link': 'https://www.tiktok.com/@enhaxo1/video/7427124401579085088', 'liked': False, 'commented': True, 'bookmarked': False, 'hashtags': ['', '', 'roséblackpink', 'roses_are_rosie', 'rosé', 'brunomars', 'atp', 'parkchaeyoung', 'blackpink', 'roséedit']}, {'link': 'https://www.tiktok.com/@jaceymunee/video/7431707765908770090', 'liked': True, 'commented': False, 'bookmarked': False, 'hashtags': ['fyp', 'fy', 'gf', 'bf', 'relationship', 'couplegoals', 'couple', 'dating']}]}}\n"
     ]
    }
   ],
   "source": [
    "# Define the modified input data structure as explained\n",
    "input_data = {\n",
    "    \"user1\": {\n",
    "        \"videos\": [\n",
    "            {\n",
    "                \"link\": \"https://www.tiktok.com/@mostpyaari/video/7435368918195178782\",\n",
    "                \"liked\": True,\n",
    "                \"commented\": True,\n",
    "                \"bookmarked\": False\n",
    "            },\n",
    "            {\n",
    "                \"link\": \"https://www.tiktok.com/@essaouirahorseparadise/video/7433840363829218565\",\n",
    "                \"liked\": False,\n",
    "                \"commented\": False,\n",
    "                \"bookmarked\": True\n",
    "            },\n",
    "            # More videos...\n",
    "        ]\n",
    "    },\n",
    "    \"user2\": {\n",
    "        \"videos\": [\n",
    "            {\n",
    "                \"link\": \"https://www.tiktok.com/@enhaxo1/video/7427124401579085088\",\n",
    "                \"liked\": False,\n",
    "                \"commented\": True,\n",
    "                \"bookmarked\": False\n",
    "            },\n",
    "            {\n",
    "                \"link\": \"https://www.tiktok.com/@jaceymunee/video/7431707765908770090\",\n",
    "                \"liked\": True,\n",
    "                \"commented\": False,\n",
    "                \"bookmarked\": False\n",
    "            },\n",
    "            # More videos...\n",
    "        ]\n",
    "    },\n",
    "    # More users...\n",
    "}\n",
    "\n",
    "# Final output structure\n",
    "final_output = {}\n",
    "\n",
    "# Function to fetch hashtags for a given video link\n",
    "def fetch_hashtags(video_link):\n",
    "\n",
    "    run_input = {\n",
    "        \"postURLs\": [\n",
    "            video_link\n",
    "        ],\n",
    "        \"shouldDownloadCovers\": False,\n",
    "        \"shouldDownloadSlideshowImages\": False,\n",
    "        \"shouldDownloadSubtitles\": False,\n",
    "        \"shouldDownloadVideos\": False\n",
    "        }\n",
    "    \n",
    "    # Run the Apify Actor to fetch video details and hashtags\n",
    "    run = client.actor(\"S5h7zRLfKFEr8pdj7\").call(run_input=run_input)\n",
    "    \n",
    "    # Extract hashtags from the API response\n",
    "    if run:\n",
    "        hashtags = client.dataset(run[\"defaultDatasetId\"]).list_items().items[0].get('hashtags', [])\n",
    "        return [tag['name'] for tag in hashtags]\n",
    "    return []\n",
    "\n",
    "# Iterate over each user and their videos\n",
    "for user, user_data in input_data.items():\n",
    "    user_videos = []  # Store video data for each user\n",
    "    \n",
    "    # Iterate over each video in user's video list\n",
    "    for video in user_data[\"videos\"]:\n",
    "        video_link = video[\"link\"]\n",
    "        \n",
    "        # Fetch hashtags for the video\n",
    "        hashtags = fetch_hashtags(video_link)\n",
    "        \n",
    "        # Construct the video dictionary with hashtags\n",
    "        video_data = {\n",
    "            \"link\": video_link,\n",
    "            \"liked\": video[\"liked\"],\n",
    "            \"commented\": video[\"commented\"],\n",
    "            \"bookmarked\": video[\"bookmarked\"],\n",
    "            \"hashtags\": hashtags\n",
    "        }\n",
    "        \n",
    "        # Append video data to the user's video list\n",
    "        user_videos.append(video_data)\n",
    "    \n",
    "    # Add user video list to the final output\n",
    "    final_output[user] = {\"videos\": user_videos}\n",
    "\n",
    "# Print or save final output\n",
    "print(final_output)\n"
   ]
  },
  {
   "cell_type": "code",
   "execution_count": 6,
   "metadata": {},
   "outputs": [
    {
     "name": "stdout",
     "output_type": "stream",
     "text": [
      "CSV file has been saved as /Users/willchenwenjun/Desktop/Deus Ex Machina/Project/processed_video_data.csv\n"
     ]
    }
   ],
   "source": [
    "import csv\n",
    "# Specify the path to save the CSV file\n",
    "output_file_path = '/Users/willchenwenjun/Desktop/Deus Ex Machina/Project/processed_video_data.csv'\n",
    "\n",
    "# Prepare CSV headers based on the structure\n",
    "headers = [\"userName\"]\n",
    "for i in range(1, 11):  # Assuming up to 10 videos per user\n",
    "    headers.extend([f\"videos_{i}_tags\", f\"videos_{i}_liked\", f\"videos_{i}_commented\", f\"videos_{i}_bookmarked\", ])\n",
    "\n",
    "# Write data to CSV\n",
    "with open(output_file_path, mode='w', newline='', encoding='utf-8') as csv_file:\n",
    "    writer = csv.writer(csv_file)\n",
    "    writer.writerow(headers)  # Write the header row\n",
    "\n",
    "    for user, data in final_output.items():\n",
    "        row = [user]  # Start row with the username\n",
    "        videos = data.get(\"videos\", [])\n",
    "\n",
    "        # Add each video's details to the row, filling empty slots if fewer than 10 videos\n",
    "        for i in range(10):\n",
    "            if i < len(videos):\n",
    "                video = videos[i]\n",
    "                row.extend([\n",
    "                                        ', '.join(video[\"hashtags\"]),  # Join hashtags as a single comma-separated string\n",
    "                    video[\"liked\"],\n",
    "                    video[\"commented\"],\n",
    "                    video[\"bookmarked\"],\n",
    "\n",
    "                ])\n",
    "            else:\n",
    "                # If there are fewer than 10 videos, add empty cells\n",
    "                row.extend([\"\", \"\", \"\", \"\"])\n",
    "\n",
    "        writer.writerow(row)  # Write the completed row for each user\n",
    "\n",
    "print(f\"CSV file has been saved as {output_file_path}\")\n"
   ]
  },
  {
   "cell_type": "code",
   "execution_count": null,
   "metadata": {},
   "outputs": [],
   "source": []
  }
 ],
 "metadata": {
  "kernelspec": {
   "display_name": "base",
   "language": "python",
   "name": "python3"
  },
  "language_info": {
   "codemirror_mode": {
    "name": "ipython",
    "version": 3
   },
   "file_extension": ".py",
   "mimetype": "text/x-python",
   "name": "python",
   "nbconvert_exporter": "python",
   "pygments_lexer": "ipython3",
   "version": "3.9.12"
  }
 },
 "nbformat": 4,
 "nbformat_minor": 2
}
